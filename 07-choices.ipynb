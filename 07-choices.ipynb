{
 "cells": [
  {
   "cell_type": "code",
   "execution_count": 6,
   "id": "6ff34dab-31f1-448f-b06e-e7e504fa34d6",
   "metadata": {},
   "outputs": [
    {
     "name": "stdout",
     "output_type": "stream",
     "text": [
      "Smaller than 100\n",
      "Done\n"
     ]
    }
   ],
   "source": [
    "num = 37\n",
    "if num > 100:\n",
    "    print(\"Greater than 100\")\n",
    "else:\n",
    "    print(\"Smaller than 100\")\n",
    "print(\"Done\")"
   ]
  },
  {
   "cell_type": "code",
   "execution_count": 7,
   "id": "eeae4616-9d55-43c9-8611-14d399834b16",
   "metadata": {},
   "outputs": [
    {
     "data": {
      "text/plain": [
       "True"
      ]
     },
     "execution_count": 7,
     "metadata": {},
     "output_type": "execute_result"
    }
   ],
   "source": [
    "2 < 4\n"
   ]
  },
  {
   "cell_type": "code",
   "execution_count": 8,
   "id": "24eb568e-c868-4148-8d66-dd281e0104d5",
   "metadata": {},
   "outputs": [
    {
     "data": {
      "text/plain": [
       "True"
      ]
     },
     "execution_count": 8,
     "metadata": {},
     "output_type": "execute_result"
    }
   ],
   "source": [
    "4 <= 4"
   ]
  },
  {
   "cell_type": "code",
   "execution_count": 9,
   "id": "6a6a5a84-0e20-4973-8c56-9dedcda1da13",
   "metadata": {},
   "outputs": [
    {
     "data": {
      "text/plain": [
       "False"
      ]
     },
     "execution_count": 9,
     "metadata": {},
     "output_type": "execute_result"
    }
   ],
   "source": [
    "2 == 4"
   ]
  },
  {
   "cell_type": "code",
   "execution_count": 10,
   "id": "23e18707-3617-4ec2-865f-b604291ad34e",
   "metadata": {},
   "outputs": [
    {
     "data": {
      "text/plain": [
       "False"
      ]
     },
     "execution_count": 10,
     "metadata": {},
     "output_type": "execute_result"
    }
   ],
   "source": [
    "name = \"Curie\"\n",
    "second_name = \"Turing\"\n",
    "name == second_name"
   ]
  },
  {
   "cell_type": "code",
   "execution_count": 11,
   "id": "d49bf86c-15af-42dc-bfcc-f581da94b30d",
   "metadata": {},
   "outputs": [
    {
     "data": {
      "text/plain": [
       "True"
      ]
     },
     "execution_count": 11,
     "metadata": {},
     "output_type": "execute_result"
    }
   ],
   "source": [
    "name <= second_name"
   ]
  },
  {
   "cell_type": "code",
   "execution_count": 12,
   "id": "07cce376-55b7-4ce1-98a6-d2342d8df5b1",
   "metadata": {},
   "outputs": [
    {
     "data": {
      "text/plain": [
       "False"
      ]
     },
     "execution_count": 12,
     "metadata": {},
     "output_type": "execute_result"
    }
   ],
   "source": [
    "name >= second_name"
   ]
  },
  {
   "cell_type": "code",
   "execution_count": 14,
   "id": "fa61e137-2910-4e8d-9805-b3933dc4b7b2",
   "metadata": {},
   "outputs": [
    {
     "name": "stdout",
     "output_type": "stream",
     "text": [
      "At least one test is true\n"
     ]
    }
   ],
   "source": [
    "if (1 < 0) or (1 >= 0):\n",
    "    print(\"At least one test is true\")"
   ]
  },
  {
   "cell_type": "code",
   "execution_count": 15,
   "id": "8945a3bd-4817-4da3-be28-0917d80b1891",
   "metadata": {},
   "outputs": [],
   "source": [
    "import numpy as np"
   ]
  },
  {
   "cell_type": "code",
   "execution_count": 16,
   "id": "deb26ad5-75d3-421f-9813-219e67f2f91b",
   "metadata": {},
   "outputs": [],
   "source": [
    "data = np.loadtxt('data/inflammation-01.csv', delimiter=',')"
   ]
  },
  {
   "cell_type": "code",
   "execution_count": 17,
   "id": "7c12e13f-bc99-4925-96c1-7cd83449870b",
   "metadata": {},
   "outputs": [
    {
     "name": "stdout",
     "output_type": "stream",
     "text": [
      "Suspicious looking maxima!\n"
     ]
    }
   ],
   "source": [
    "max_inflammation_0 = data.max(axis=0)[0]\n",
    "max_inflammation_20 = data.max(axis=0)[20]\n",
    "\n",
    "if max_inflammation_0 == 0 and max_inflammation_20 == 20:\n",
    "    print(\"Suspicious looking maxima!\")"
   ]
  },
  {
   "cell_type": "code",
   "execution_count": 18,
   "id": "955b5d8f-ac0d-4352-9703-453695275e2f",
   "metadata": {},
   "outputs": [
    {
     "name": "stdout",
     "output_type": "stream",
     "text": [
      "Suspicious looking maxima!\n"
     ]
    }
   ],
   "source": [
    "if max_inflammation_0 == 0 and max_inflammation_20 == 20:\n",
    "    print(\"Suspicious looking maxima!\")\n",
    "elif data.min(axis=0).sum() == 0:\n",
    "    print(\"Minima add up to zero!\")\n",
    "else:\n",
    "    print(\"Seems okay\")"
   ]
  },
  {
   "cell_type": "code",
   "execution_count": null,
   "id": "de416f6f-7973-4689-a82e-13d27ea1ddbd",
   "metadata": {},
   "outputs": [],
   "source": []
  }
 ],
 "metadata": {
  "kernelspec": {
   "display_name": "Python 3 (ipykernel)",
   "language": "python",
   "name": "python3"
  },
  "language_info": {
   "codemirror_mode": {
    "name": "ipython",
    "version": 3
   },
   "file_extension": ".py",
   "mimetype": "text/x-python",
   "name": "python",
   "nbconvert_exporter": "python",
   "pygments_lexer": "ipython3",
   "version": "3.9.12"
  }
 },
 "nbformat": 4,
 "nbformat_minor": 5
}
