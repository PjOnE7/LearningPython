{
 "cells": [
  {
   "cell_type": "code",
   "execution_count": 9,
   "id": "dd1669c8-254f-4479-bae8-14387dea817e",
   "metadata": {},
   "outputs": [
    {
     "name": "stdout",
     "output_type": "stream",
     "text": [
      "Odds are: [1, 3, 5, 7, 9, 11]\n"
     ]
    }
   ],
   "source": [
    "odds = [1, 3, 5, 7, 9, 11]\n",
    "print('Odds are:', odds)"
   ]
  },
  {
   "cell_type": "code",
   "execution_count": 3,
   "id": "ffd045a0-e008-4fe6-95a3-8237eccd8341",
   "metadata": {},
   "outputs": [
    {
     "name": "stdout",
     "output_type": "stream",
     "text": [
      "First element in the list is 1\n"
     ]
    }
   ],
   "source": [
    "print(\"First element in the list is\", odds[0])"
   ]
  },
  {
   "cell_type": "code",
   "execution_count": 4,
   "id": "04d16796-70eb-4f2b-a40a-7a9c02be40c7",
   "metadata": {},
   "outputs": [
    {
     "name": "stdout",
     "output_type": "stream",
     "text": [
      "Last element in the list is 7\n"
     ]
    }
   ],
   "source": [
    "print(\"Last element in the list is\", odds[-1])"
   ]
  },
  {
   "cell_type": "code",
   "execution_count": 10,
   "id": "59e4d119-c5cd-4785-a382-049d96eb8540",
   "metadata": {},
   "outputs": [
    {
     "name": "stdout",
     "output_type": "stream",
     "text": [
      "Every second element in the list is [1, 5, 9]\n"
     ]
    }
   ],
   "source": [
    "print(\"Every second element in the list is\", odds[0::2])"
   ]
  },
  {
   "cell_type": "code",
   "execution_count": 12,
   "id": "4d8c9bcf-810a-4f62-aef1-745cb4a32d29",
   "metadata": {},
   "outputs": [
    {
     "name": "stdout",
     "output_type": "stream",
     "text": [
      "Name is originally ['Curie', 'Darwing', 'Turing']\n",
      "Final values of names ['Curie', 'Darwin', 'Turing']\n"
     ]
    }
   ],
   "source": [
    "names = [\"Curie\", \"Darwing\", \"Turing\"]\n",
    "print(\"Name is originally\", names)\n",
    "names[1] = \"Darwin\"\n",
    "print(\"Final values of names\", names)"
   ]
  },
  {
   "cell_type": "code",
   "execution_count": 13,
   "id": "25d192e5-986e-4a59-a48d-dfd1c67732a7",
   "metadata": {},
   "outputs": [
    {
     "name": "stdout",
     "output_type": "stream",
     "text": [
      "First character in the name D\n"
     ]
    }
   ],
   "source": [
    "name = \"Darwin\"\n",
    "print(\"First character in the name\", name[0])"
   ]
  },
  {
   "cell_type": "code",
   "execution_count": 14,
   "id": "25577413-0c63-4b7e-b5d8-9a5a37106afa",
   "metadata": {},
   "outputs": [
    {
     "ename": "TypeError",
     "evalue": "'str' object does not support item assignment",
     "output_type": "error",
     "traceback": [
      "\u001b[0;31m---------------------------------------------------------------------------\u001b[0m",
      "\u001b[0;31mTypeError\u001b[0m                                 Traceback (most recent call last)",
      "Input \u001b[0;32mIn [14]\u001b[0m, in \u001b[0;36m<cell line: 1>\u001b[0;34m()\u001b[0m\n\u001b[0;32m----> 1\u001b[0m name[\u001b[38;5;241m0\u001b[39m] \u001b[38;5;241m=\u001b[39m \u001b[38;5;124m'\u001b[39m\u001b[38;5;124md\u001b[39m\u001b[38;5;124m'\u001b[39m\n\u001b[1;32m      2\u001b[0m \u001b[38;5;28mprint\u001b[39m(name)\n",
      "\u001b[0;31mTypeError\u001b[0m: 'str' object does not support item assignment"
     ]
    }
   ],
   "source": [
    "name[0] = 'd'\n",
    "print(name)"
   ]
  },
  {
   "cell_type": "code",
   "execution_count": 15,
   "id": "2e9276d7-5bc4-4181-b59f-6966c4e9003f",
   "metadata": {},
   "outputs": [],
   "source": [
    "x = [\n",
    "    [\"pepper\", \"courgette\", \"onion\"],\n",
    "    [\"cabbage\", \"lettuce\", \"garlic\"],\n",
    "    [\"apple\", \"pear\", \"banana\"],\n",
    "]"
   ]
  },
  {
   "cell_type": "code",
   "execution_count": 16,
   "id": "3c0152db-8711-43d9-b65e-e578e85a2d28",
   "metadata": {},
   "outputs": [
    {
     "name": "stdout",
     "output_type": "stream",
     "text": [
      "['pepper', 'courgette', 'onion']\n"
     ]
    }
   ],
   "source": [
    "print(x[0])"
   ]
  },
  {
   "cell_type": "code",
   "execution_count": 22,
   "id": "5c6c2530-80d8-4435-8494-16ebcd714b03",
   "metadata": {},
   "outputs": [
    {
     "name": "stdout",
     "output_type": "stream",
     "text": [
      "pepper\n"
     ]
    }
   ],
   "source": [
    "print(x[0][0])"
   ]
  },
  {
   "cell_type": "code",
   "execution_count": 23,
   "id": "e0308c85-68b1-4b0f-8790-ecda3d3957df",
   "metadata": {},
   "outputs": [],
   "source": [
    "sample_ages = [10, 12.5, \"Unknown\"]"
   ]
  },
  {
   "cell_type": "code",
   "execution_count": 24,
   "id": "b782505a-1582-43b2-9d43-673b7f98ab6c",
   "metadata": {},
   "outputs": [
    {
     "name": "stdout",
     "output_type": "stream",
     "text": [
      "<class 'int'>\n",
      "<class 'float'>\n",
      "<class 'str'>\n"
     ]
    }
   ],
   "source": [
    "print(type(sample_ages[0]))\n",
    "print(type(sample_ages[1]))\n",
    "print(type(sample_ages[2]))"
   ]
  },
  {
   "cell_type": "code",
   "execution_count": 25,
   "id": "a7d1e627-cbaf-4d23-b61d-a52f2db43606",
   "metadata": {},
   "outputs": [
    {
     "name": "stdout",
     "output_type": "stream",
     "text": [
      "[1, 3, 5, 7, 9, 11, 13]\n"
     ]
    }
   ],
   "source": [
    "odds.append(13)\n",
    "print(odds)"
   ]
  },
  {
   "cell_type": "code",
   "execution_count": 26,
   "id": "51b6b081-718d-442a-a699-2488864d358a",
   "metadata": {},
   "outputs": [
    {
     "name": "stdout",
     "output_type": "stream",
     "text": [
      "Odds after pop [3, 5, 7, 9, 11, 13]\n"
     ]
    }
   ],
   "source": [
    "removed_element = odds.pop(0)\n",
    "print(\"Odds after pop\", odds)"
   ]
  },
  {
   "cell_type": "code",
   "execution_count": 29,
   "id": "da23dde4-ab9b-431c-ad6d-3950c9c45e97",
   "metadata": {},
   "outputs": [],
   "source": [
    "odds.reverse()\n"
   ]
  },
  {
   "cell_type": "code",
   "execution_count": 30,
   "id": "a6d44321-cd45-4667-8d4d-156efdbeb107",
   "metadata": {},
   "outputs": [
    {
     "name": "stdout",
     "output_type": "stream",
     "text": [
      "[3, 5, 7, 9, 11, 13]\n"
     ]
    }
   ],
   "source": [
    "print(odds)"
   ]
  },
  {
   "cell_type": "code",
   "execution_count": 31,
   "id": "f5fa36be-5005-4c6d-bb94-40960cdd89ad",
   "metadata": {},
   "outputs": [
    {
     "name": "stdout",
     "output_type": "stream",
     "text": [
      "None\n"
     ]
    }
   ],
   "source": [
    "print(odds.reverse())"
   ]
  },
  {
   "cell_type": "code",
   "execution_count": 34,
   "id": "40f39b0c-983a-4ea1-b1bc-788332900548",
   "metadata": {},
   "outputs": [],
   "source": [
    "new_odds = odds.reverse()\n"
   ]
  },
  {
   "cell_type": "code",
   "execution_count": 36,
   "id": "d0f936e8-e872-4f14-8b28-9600626995a5",
   "metadata": {},
   "outputs": [
    {
     "name": "stdout",
     "output_type": "stream",
     "text": [
      "None\n"
     ]
    }
   ],
   "source": [
    "print(new_odds)"
   ]
  },
  {
   "cell_type": "code",
   "execution_count": 41,
   "id": "a2115c96-1456-41f0-8452-4feb4d9a28ed",
   "metadata": {},
   "outputs": [
    {
     "name": "stdout",
     "output_type": "stream",
     "text": [
      "3\n"
     ]
    }
   ],
   "source": [
    "string_for_slicing = \"Observation data: 02-Feb-2013\"\n",
    "print(string_for_slicing[-1])"
   ]
  },
  {
   "cell_type": "code",
   "execution_count": 48,
   "id": "2d290913-88de-4e49-897b-f55720eb90f2",
   "metadata": {},
   "outputs": [
    {
     "name": "stdout",
     "output_type": "stream",
     "text": [
      "bse\n"
     ]
    }
   ],
   "source": [
    "string_for_slicing = \"Observation data: 02-Feb-2013\"\n",
    "print(string_for_slicing[1:4])"
   ]
  },
  {
   "cell_type": "code",
   "execution_count": 49,
   "id": "f30e28a5-41a5-4121-aa3f-1ef73e3a806c",
   "metadata": {},
   "outputs": [
    {
     "name": "stdout",
     "output_type": "stream",
     "text": [
      "2013\n"
     ]
    }
   ],
   "source": [
    "string_for_slicing = \"Observation data: 02-Feb-2013\"\n",
    "print(string_for_slicing[-4:])"
   ]
  },
  {
   "cell_type": "code",
   "execution_count": 50,
   "id": "d204c135-ba2a-45c3-a215-0626f3b27b15",
   "metadata": {},
   "outputs": [
    {
     "name": "stdout",
     "output_type": "stream",
     "text": [
      "I notpssgre ntesae\n"
     ]
    }
   ],
   "source": [
    "beatles = \"In an octopus's garden in the shade\"\n",
    "print(beatles[0::2])"
   ]
  },
  {
   "cell_type": "code",
   "execution_count": 51,
   "id": "da6f5cf8-8ab5-4f0b-8cd8-0957fca6f4a0",
   "metadata": {},
   "outputs": [
    {
     "name": "stdout",
     "output_type": "stream",
     "text": [
      "[2, 4, 6, 8, 10, 2, 4, 6, 8, 10]\n"
     ]
    }
   ],
   "source": [
    "counts = [2, 4, 6, 8, 10]\n",
    "print(counts * 2)"
   ]
  },
  {
   "cell_type": "code",
   "execution_count": 53,
   "id": "54d4fe9c-b4ac-429e-9b06-69d9841c9b94",
   "metadata": {},
   "outputs": [
    {
     "ename": "SyntaxError",
     "evalue": "invalid syntax (196431726.py, line 1)",
     "output_type": "error",
     "traceback": [
      "\u001b[0;36m  Input \u001b[0;32mIn [53]\u001b[0;36m\u001b[0m\n\u001b[0;31m    print(2counts)\u001b[0m\n\u001b[0m           ^\u001b[0m\n\u001b[0;31mSyntaxError\u001b[0m\u001b[0;31m:\u001b[0m invalid syntax\n"
     ]
    }
   ],
   "source": []
  },
  {
   "cell_type": "code",
   "execution_count": null,
   "id": "e3bf9da4-aae9-4464-9120-02ee0dfb1dca",
   "metadata": {},
   "outputs": [],
   "source": []
  }
 ],
 "metadata": {
  "kernelspec": {
   "display_name": "Python 3 (ipykernel)",
   "language": "python",
   "name": "python3"
  },
  "language_info": {
   "codemirror_mode": {
    "name": "ipython",
    "version": 3
   },
   "file_extension": ".py",
   "mimetype": "text/x-python",
   "name": "python",
   "nbconvert_exporter": "python",
   "pygments_lexer": "ipython3",
   "version": "3.9.12"
  }
 },
 "nbformat": 4,
 "nbformat_minor": 5
}
